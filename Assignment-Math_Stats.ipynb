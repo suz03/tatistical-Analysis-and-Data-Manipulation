{
 "cells": [
  {
   "cell_type": "code",
   "execution_count": null,
   "id": "dd0cf1b5",
   "metadata": {
    "id": "dd0cf1b5"
   },
   "outputs": [],
   "source": []
  },
  {
   "cell_type": "markdown",
   "id": "07c8c0b2",
   "metadata": {
    "id": "07c8c0b2"
   },
   "source": [
    "\n",
    "### 1. Find the Cartesian Product of the below given sets in the below cell. (In Python Code)\n",
    "\n",
    "A = set(['a','b','c'])\n",
    "\n",
    "S = {1,2,3}\n"
   ]
  },
  {
   "cell_type": "code",
   "execution_count": 1,
   "id": "8b2078fa",
   "metadata": {
    "id": "8b2078fa"
   },
   "outputs": [
    {
     "name": "stdout",
     "output_type": "stream",
     "text": [
      "[('a', 1), ('a', 2), ('a', 3), ('b', 1), ('b', 2), ('b', 3), ('c', 1), ('c', 2), ('c', 3)]\n"
     ]
    }
   ],
   "source": [
    "import itertools\n",
    "\n",
    "\n",
    "A = {'a', 'b', 'c'}\n",
    "S = {1, 2, 3}\n",
    "\n",
    "\n",
    "cartesian_product = itertools.product(A, S)\n",
    "\n",
    "\n",
    "cartesian_list = list(cartesian_product)\n",
    "\n",
    "\n",
    "print(cartesian_list)\n"
   ]
  },
  {
   "cell_type": "markdown",
   "id": "3d43b9ee",
   "metadata": {
    "id": "3d43b9ee"
   },
   "source": [
    "### 2. Find all the possible permutations and number of permutations of A\n",
    "\n",
    "A = {'Red','Green','Blue'}\n"
   ]
  },
  {
   "cell_type": "code",
   "execution_count": 2,
   "id": "52c18588",
   "metadata": {
    "id": "52c18588"
   },
   "outputs": [],
   "source": [
    "import itertools\n",
    "\n",
    "\n",
    "A = {'Red', 'Green', 'Blue'}\n",
    "\n",
    "all_permutations = list(itertools.permutations(A))"
   ]
  },
  {
   "cell_type": "code",
   "execution_count": 3,
   "id": "51509b5e",
   "metadata": {
    "id": "51509b5e"
   },
   "outputs": [
    {
     "name": "stdout",
     "output_type": "stream",
     "text": [
      "All permutations:\n",
      "('Blue', 'Green', 'Red')\n",
      "('Blue', 'Red', 'Green')\n",
      "('Green', 'Blue', 'Red')\n",
      "('Green', 'Red', 'Blue')\n",
      "('Red', 'Blue', 'Green')\n",
      "('Red', 'Green', 'Blue')\n",
      "\n",
      "Number of permutations: 6\n"
     ]
    }
   ],
   "source": [
    "print(\"All permutations:\")\n",
    "for perm in all_permutations:\n",
    "    print(perm)\n",
    "\n",
    "num_permutations = len(all_permutations)\n",
    "print(f\"\\nNumber of permutations: {num_permutations}\")"
   ]
  },
  {
   "cell_type": "markdown",
   "id": "637ffa24",
   "metadata": {
    "id": "637ffa24"
   },
   "source": [
    "### 3. Research Question on Hypothesis Testing\n",
    "\n",
    "In previous years, 52% of parents believed that electronics and social media was the cause of their teenager’s lack of sleep. Do more parents today believe that their teenager’s lack of sleep is caused due to electronics and social media?\n",
    "\n",
    "**Population**: Parents with a teenager (age 13-18)  \n",
    "**Parameter of Interest**: p  \n",
    "\n",
    "**Null Hypothesis:** p = 0.52  \n",
    "**Alternative Hypthosis:** p > 0.52 (note that this is a one-sided test)\n",
    "\n",
    "**Data**: 1018 people were surveyed. 56% of those who were surveyed believe that their teenager’s lack of sleep is caused due to electronics and social media."
   ]
  },
  {
   "cell_type": "markdown",
   "id": "4786f83f",
   "metadata": {
    "id": "4786f83f"
   },
   "source": [
    "### Hint: Use  `proportions_ztest()` from `statsmodels`\n",
    "\n",
    "Note the argument `alternative=\"larger\"` indicating a one-sided test. The function returns two values - the z-statistic and the corresponding p-value."
   ]
  },
  {
   "cell_type": "code",
   "execution_count": 4,
   "id": "475fe79a",
   "metadata": {
    "id": "475fe79a"
   },
   "outputs": [
    {
     "name": "stdout",
     "output_type": "stream",
     "text": [
      "Z-statistic: 2.5711\n",
      "P-value: 0.0051\n"
     ]
    }
   ],
   "source": [
    "from statsmodels.stats.proportion import proportions_ztest\n",
    "\n",
    "\n",
    "p_prev = 0.52  # Historical proportion\n",
    "n = 1018  # Sample size\n",
    "p_hat = 0.56  # Sample proportion\n",
    "\n",
    "# Perform z-test for proportions\n",
    "z_stat, p_value = proportions_ztest(count=p_hat * n, nobs=n, value=p_prev, alternative='larger')\n",
    "\n",
    "# Output the results\n",
    "print(f\"Z-statistic: {z_stat:.4f}\")\n",
    "print(f\"P-value: {p_value:.4f}\")\n"
   ]
  },
  {
   "cell_type": "markdown",
   "id": "e64e5437",
   "metadata": {
    "id": "e64e5437"
   },
   "source": [
    "### What is your Conclusion of the hypothesis test\n"
   ]
  },
  {
   "cell_type": "markdown",
   "id": "5f5ac502",
   "metadata": {
    "id": "4da83967"
   },
   "source": [
    "# Conclusion:\n",
    "Since the p-value (0.0081) is less than the significance level of 0.05 (commonly used for hypothesis testing),\n",
    "we reject the null hypothesis \\( H_0 \\). This means we have sufficient evidence to conclude that more parents \n",
    "today believe that their teenager's lack of sleep is caused by electronics and social media compared \n",
    "to previous years (where 52% believed so).\n",
    "\n",
    "Therefore, based on the sample data provided, we can infer that there has been an increase in the proportion of \n",
    "parents who attribute their teenager's lack of sleep to electronics and social media. This finding suggests a \n",
    "shift in parental perception over time regarding the impact of technology on their children's sleep patterns."
   ]
  },
  {
   "cell_type": "markdown",
   "id": "4503f17c",
   "metadata": {
    "id": "4503f17c"
   },
   "source": [
    "### 4. Calculate the set difference between the 2 sets (set1 - multipes of 3 upto a range of 31 and set2 - multiples of upto a range of 31)"
   ]
  },
  {
   "cell_type": "markdown",
   "id": "66cd3462",
   "metadata": {
    "id": "d2760c77"
   },
   "source": []
  },
  {
   "cell_type": "code",
   "execution_count": 6,
   "id": "b10dc469",
   "metadata": {
    "id": "b10dc469"
   },
   "outputs": [
    {
     "name": "stdout",
     "output_type": "stream",
     "text": [
      "Set difference (set1 - set2): {3, 9, 15, 21, 27}\n"
     ]
    }
   ],
   "source": [
    "# Generate set1: Multiples of 3 up to 31\n",
    "set1 = set()\n",
    "for i in range(1, 32):\n",
    "    if i % 3 == 0:\n",
    "        set1.add(i)\n",
    "\n",
    "# Generate set2: Multiples of 2 up to 31\n",
    "set2 = set()\n",
    "for i in range(1, 32):\n",
    "    if i % 2 == 0:\n",
    "        set2.add(i)\n",
    "\n",
    "# Calculate set difference (set1 - set2)\n",
    "set_difference = set1 - set2\n",
    "\n",
    "# Print the result\n",
    "print(\"Set difference (set1 - set2):\", set_difference)\n"
   ]
  },
  {
   "cell_type": "markdown",
   "id": "796c2e91",
   "metadata": {
    "id": "796c2e91"
   },
   "source": [
    "### 5. Calculate a function to generate random arrays with range of (1,100) and the naive functions to calculate Mean, Varience and Standard deviation for the array generated"
   ]
  },
  {
   "cell_type": "code",
   "execution_count": 8,
   "id": "9c7a2930",
   "metadata": {
    "id": "9c7a2930"
   },
   "outputs": [],
   "source": [
    "import random\n",
    "\n",
    "def generate_random_array(size):\n",
    "  \n",
    "    return [random.randint(1, 100) for _ in range(size)]\n"
   ]
  },
  {
   "cell_type": "code",
   "execution_count": 9,
   "id": "d9df5a6b",
   "metadata": {
    "id": "d9df5a6b"
   },
   "outputs": [],
   "source": [
    "def calculate_mean(arr):\n",
    "   \n",
    "    if len(arr) == 0:\n",
    "        return 0.0\n",
    "    return sum(arr) / len(arr)\n"
   ]
  },
  {
   "cell_type": "code",
   "execution_count": 10,
   "id": "93c70e16",
   "metadata": {},
   "outputs": [],
   "source": [
    "def calculate_variance(arr):\n",
    "   \n",
    "    if len(arr) == 0:\n",
    "        return 0.0\n",
    "    \n",
    "    mean = calculate_mean(arr)\n",
    "    variance = sum((x - mean) ** 2 for x in arr) / len(arr)\n",
    "    \n",
    "    return variance\n"
   ]
  },
  {
   "cell_type": "code",
   "execution_count": 11,
   "id": "d7eaac05",
   "metadata": {},
   "outputs": [],
   "source": [
    "import math\n",
    "\n",
    "def calculate_std_deviation(arr):\n",
    "\n",
    "    if len(arr) == 0:\n",
    "        return 0.0\n",
    "    \n",
    "    variance = calculate_variance(arr)\n",
    "    std_deviation = math.sqrt(variance)\n",
    "    \n",
    "    return std_deviation\n"
   ]
  },
  {
   "cell_type": "code",
   "execution_count": 18,
   "id": "20d948d0",
   "metadata": {},
   "outputs": [
    {
     "name": "stdout",
     "output_type": "stream",
     "text": [
      "Random Array: [71, 57, 55, 31, 22, 20, 93, 52, 98, 67]\n",
      "Mean: 56.6\n",
      "Variance: 657.0400000000001\n",
      "Standard Deviation: 25.632791498391278\n"
     ]
    }
   ],
   "source": [
    "# Generate a random array of size 10\n",
    "random_array = generate_random_array(10)\n",
    "\n",
    "# Calculate mean, variance, and standard deviation\n",
    "mean = calculate_mean(random_array)\n",
    "variance = calculate_variance(random_array)\n",
    "std_deviation = calculate_std_deviation(random_array)\n",
    "\n",
    "# Print results\n",
    "print(\"Random Array:\", random_array)\n",
    "print(\"Mean:\", mean)\n",
    "print(\"Variance:\", variance)\n",
    "print(\"Standard Deviation:\", std_deviation)\n"
   ]
  },
  {
   "cell_type": "code",
   "execution_count": null,
   "id": "2f0648ac",
   "metadata": {},
   "outputs": [],
   "source": []
  },
  {
   "cell_type": "code",
   "execution_count": null,
   "id": "778256c1",
   "metadata": {},
   "outputs": [],
   "source": []
  }
 ],
 "metadata": {
  "colab": {
   "provenance": []
  },
  "kernelspec": {
   "display_name": "Python 3 (ipykernel)",
   "language": "python",
   "name": "python3"
  },
  "language_info": {
   "codemirror_mode": {
    "name": "ipython",
    "version": 3
   },
   "file_extension": ".py",
   "mimetype": "text/x-python",
   "name": "python",
   "nbconvert_exporter": "python",
   "pygments_lexer": "ipython3",
   "version": "3.9.19"
  }
 },
 "nbformat": 4,
 "nbformat_minor": 5
}
